{
 "cells": [
  {
   "cell_type": "code",
   "execution_count": 32,
   "metadata": {},
   "outputs": [
    {
     "name": "stdout",
     "output_type": "stream",
     "text": [
      "____________________________________________________\n"
     ]
    },
    {
     "name": "stdin",
     "output_type": "stream",
     "text": [
      "Pressione 1 para jogar e 0 para sair! 1\n"
     ]
    },
    {
     "name": "stdout",
     "output_type": "stream",
     "text": [
      "Cartas do dealer: X e 3\n",
      "Suas cartas:  [10, 7]\n",
      "17\n"
     ]
    },
    {
     "name": "stdin",
     "output_type": "stream",
     "text": [
      "Digite 1 para Hit e 2 para Stay! 2\n"
     ]
    },
    {
     "name": "stdout",
     "output_type": "stream",
     "text": [
      "[4, 3, 9, 9]\n",
      "Cartas do Dealer: 25\n",
      "O dealer estourou! Voce vence o jogo!\n",
      "Seu score: 1\n",
      "Score do dealer: 0\n",
      "____________________________________________________\n"
     ]
    },
    {
     "name": "stdin",
     "output_type": "stream",
     "text": [
      "Pressione 1 para jogar e 0 para sair! 1\n"
     ]
    },
    {
     "name": "stdout",
     "output_type": "stream",
     "text": [
      "Cartas do dealer: X e 9\n",
      "Suas cartas:  [4, 4]\n",
      "8\n"
     ]
    },
    {
     "name": "stdin",
     "output_type": "stream",
     "text": [
      "Digite 1 para Hit e 2 para Stay! 1\n"
     ]
    },
    {
     "name": "stdout",
     "output_type": "stream",
     "text": [
      "[4, 4, 2]\n",
      "Suas cartas: 10\n"
     ]
    },
    {
     "name": "stdin",
     "output_type": "stream",
     "text": [
      "Digite 1 para Hit e 2 para Stay! 1\n"
     ]
    },
    {
     "name": "stdout",
     "output_type": "stream",
     "text": [
      "[4, 4, 2, 9]\n",
      "Suas cartas: 19\n"
     ]
    },
    {
     "name": "stdin",
     "output_type": "stream",
     "text": [
      "Digite 1 para Hit e 2 para Stay! 2\n"
     ]
    },
    {
     "name": "stdout",
     "output_type": "stream",
     "text": [
      "[9, 9]\n",
      "Cartas do Dealer: 18\n",
      "Parabens, voce venceu!\n",
      "Seu score: 2\n",
      "Score do dealer: 0\n",
      "____________________________________________________\n"
     ]
    },
    {
     "name": "stdin",
     "output_type": "stream",
     "text": [
      "Pressione 1 para jogar e 0 para sair! 1\n"
     ]
    },
    {
     "name": "stdout",
     "output_type": "stream",
     "text": [
      "Cartas do dealer: X e 6\n",
      "Suas cartas:  [4, 11]\n",
      "15\n"
     ]
    },
    {
     "name": "stdin",
     "output_type": "stream",
     "text": [
      "Digite 1 para Hit e 2 para Stay! 1\n"
     ]
    },
    {
     "name": "stdout",
     "output_type": "stream",
     "text": [
      "[4, 11, 1]\n",
      "Suas cartas: 16\n"
     ]
    },
    {
     "name": "stdin",
     "output_type": "stream",
     "text": [
      "Digite 1 para Hit e 2 para Stay! 2\n"
     ]
    },
    {
     "name": "stdout",
     "output_type": "stream",
     "text": [
      "[10, 6, 4]\n",
      "Cartas do Dealer: 20\n",
      "Que pena, o dealer vence!\n",
      "Seu score: 2\n",
      "Score do dealer: 1\n",
      "____________________________________________________\n"
     ]
    },
    {
     "name": "stdin",
     "output_type": "stream",
     "text": [
      "Pressione 1 para jogar e 0 para sair! 1\n"
     ]
    },
    {
     "name": "stdout",
     "output_type": "stream",
     "text": [
      "Cartas do dealer: X e 4\n",
      "Suas cartas:  [10, 8]\n",
      "18\n"
     ]
    },
    {
     "name": "stdin",
     "output_type": "stream",
     "text": [
      "Digite 1 para Hit e 2 para Stay! 2\n"
     ]
    },
    {
     "name": "stdout",
     "output_type": "stream",
     "text": [
      "[6, 4, 9]\n",
      "Cartas do Dealer: 19\n",
      "Que pena, o dealer vence!\n",
      "Seu score: 2\n",
      "Score do dealer: 2\n",
      "____________________________________________________\n"
     ]
    },
    {
     "name": "stdin",
     "output_type": "stream",
     "text": [
      "Pressione 1 para jogar e 0 para sair! 1\n"
     ]
    },
    {
     "name": "stdout",
     "output_type": "stream",
     "text": [
      "Cartas do dealer: X e 9\n",
      "Suas cartas:  [11, 7]\n",
      "18\n"
     ]
    },
    {
     "name": "stdin",
     "output_type": "stream",
     "text": [
      "Digite 1 para Hit e 2 para Stay! 1\n"
     ]
    },
    {
     "name": "stdout",
     "output_type": "stream",
     "text": [
      "[11, 7, 1]\n",
      "Suas cartas: 19\n"
     ]
    },
    {
     "name": "stdin",
     "output_type": "stream",
     "text": [
      "Digite 1 para Hit e 2 para Stay! 2\n"
     ]
    },
    {
     "name": "stdout",
     "output_type": "stream",
     "text": [
      "[3, 9, 2, 1, 8]\n",
      "Cartas do Dealer: 23\n",
      "O dealer estourou! Voce vence o jogo!\n",
      "Seu score: 3\n",
      "Score do dealer: 2\n",
      "____________________________________________________\n"
     ]
    },
    {
     "name": "stdin",
     "output_type": "stream",
     "text": [
      "Pressione 1 para jogar e 0 para sair! 1\n"
     ]
    },
    {
     "name": "stdout",
     "output_type": "stream",
     "text": [
      "Cartas do dealer: X e 6\n",
      "Suas cartas:  [9, 10]\n",
      "19\n"
     ]
    },
    {
     "name": "stdin",
     "output_type": "stream",
     "text": [
      "Digite 1 para Hit e 2 para Stay! 2\n"
     ]
    },
    {
     "name": "stdout",
     "output_type": "stream",
     "text": [
      "[10, 6, 6]\n",
      "Cartas do Dealer: 22\n",
      "O dealer estourou! Voce vence o jogo!\n",
      "Seu score: 4\n",
      "Score do dealer: 2\n",
      "____________________________________________________\n"
     ]
    },
    {
     "name": "stdin",
     "output_type": "stream",
     "text": [
      "Pressione 1 para jogar e 0 para sair! 1\n"
     ]
    },
    {
     "name": "stdout",
     "output_type": "stream",
     "text": [
      "Cartas do dealer: X e 11\n",
      "Suas cartas:  [11, 8]\n",
      "19\n"
     ]
    },
    {
     "name": "stdin",
     "output_type": "stream",
     "text": [
      "Digite 1 para Hit e 2 para Stay! 2\n"
     ]
    },
    {
     "name": "stdout",
     "output_type": "stream",
     "text": [
      "[9, 11]\n",
      "Cartas do Dealer: 20\n",
      "Que pena, o dealer vence!\n",
      "Seu score: 4\n",
      "Score do dealer: 3\n",
      "____________________________________________________\n"
     ]
    },
    {
     "name": "stdin",
     "output_type": "stream",
     "text": [
      "Pressione 1 para jogar e 0 para sair! 1\n"
     ]
    },
    {
     "name": "stdout",
     "output_type": "stream",
     "text": [
      "Cartas do dealer: X e 11\n",
      "Suas cartas:  [11, 6]\n",
      "17\n"
     ]
    },
    {
     "name": "stdin",
     "output_type": "stream",
     "text": [
      "Digite 1 para Hit e 2 para Stay! 2\n"
     ]
    },
    {
     "name": "stdout",
     "output_type": "stream",
     "text": [
      "[9, 11]\n",
      "Cartas do Dealer: 20\n",
      "Que pena, o dealer vence!\n",
      "Seu score: 4\n",
      "Score do dealer: 4\n",
      "____________________________________________________\n"
     ]
    },
    {
     "name": "stdin",
     "output_type": "stream",
     "text": [
      "Pressione 1 para jogar e 0 para sair! 1\n"
     ]
    },
    {
     "name": "stdout",
     "output_type": "stream",
     "text": [
      "Cartas do dealer: X e 4\n",
      "Suas cartas:  [8, 3]\n",
      "11\n"
     ]
    },
    {
     "name": "stdin",
     "output_type": "stream",
     "text": [
      "Digite 1 para Hit e 2 para Stay! 1\n"
     ]
    },
    {
     "name": "stdout",
     "output_type": "stream",
     "text": [
      "[8, 3, 9]\n",
      "Suas cartas: 20\n"
     ]
    },
    {
     "name": "stdin",
     "output_type": "stream",
     "text": [
      "Digite 1 para Hit e 2 para Stay! 2\n"
     ]
    },
    {
     "name": "stdout",
     "output_type": "stream",
     "text": [
      "[11, 4, 8]\n",
      "Cartas do Dealer: 23\n",
      "O dealer estourou! Voce vence o jogo!\n",
      "Seu score: 5\n",
      "Score do dealer: 4\n",
      "____________________________________________________\n"
     ]
    },
    {
     "name": "stdin",
     "output_type": "stream",
     "text": [
      "Pressione 1 para jogar e 0 para sair! 1\n"
     ]
    },
    {
     "name": "stdout",
     "output_type": "stream",
     "text": [
      "Cartas do dealer: X e 3\n",
      "Suas cartas:  [6, 1]\n",
      "7\n"
     ]
    },
    {
     "name": "stdin",
     "output_type": "stream",
     "text": [
      "Digite 1 para Hit e 2 para Stay! 1\n"
     ]
    },
    {
     "name": "stdout",
     "output_type": "stream",
     "text": [
      "[6, 1, 2]\n",
      "Suas cartas: 9\n"
     ]
    },
    {
     "name": "stdin",
     "output_type": "stream",
     "text": [
      "Digite 1 para Hit e 2 para Stay! 1\n"
     ]
    },
    {
     "name": "stdout",
     "output_type": "stream",
     "text": [
      "[6, 1, 2, 11]\n",
      "Suas cartas: 20\n"
     ]
    },
    {
     "name": "stdin",
     "output_type": "stream",
     "text": [
      "Digite 1 para Hit e 2 para Stay! 2\n"
     ]
    },
    {
     "name": "stdout",
     "output_type": "stream",
     "text": [
      "[9, 3, 8]\n",
      "Cartas do Dealer: 20\n",
      "Empate, ninguem vence!\n",
      "Seu score: 5\n",
      "Score do dealer: 4\n",
      "____________________________________________________\n"
     ]
    },
    {
     "name": "stdin",
     "output_type": "stream",
     "text": [
      "Pressione 1 para jogar e 0 para sair! 1\n"
     ]
    },
    {
     "name": "stdout",
     "output_type": "stream",
     "text": [
      "Cartas do dealer: X e 4\n",
      "Suas cartas:  [9, 7]\n",
      "16\n"
     ]
    },
    {
     "name": "stdin",
     "output_type": "stream",
     "text": [
      "Digite 1 para Hit e 2 para Stay! 1\n"
     ]
    },
    {
     "name": "stdout",
     "output_type": "stream",
     "text": [
      "[9, 7, 7]\n",
      "Suas cartas: 23\n",
      "Voce estourou! o Dealer vence o jogo!\n",
      "Seu score: 5\n",
      "Score do dealer: 5\n",
      "[4, 4, 9]\n",
      "Cartas do Dealer: 17\n",
      "Parabens, voce venceu!\n",
      "Seu score: 6\n",
      "Score do dealer: 5\n",
      "____________________________________________________\n"
     ]
    },
    {
     "name": "stdin",
     "output_type": "stream",
     "text": [
      "Pressione 1 para jogar e 0 para sair! 1\n"
     ]
    },
    {
     "name": "stdout",
     "output_type": "stream",
     "text": [
      "Cartas do dealer: X e 3\n",
      "Suas cartas:  [10, 11]\n",
      "21\n"
     ]
    },
    {
     "name": "stdin",
     "output_type": "stream",
     "text": [
      "Digite 1 para Hit e 2 para Stay! 2\n"
     ]
    },
    {
     "name": "stdout",
     "output_type": "stream",
     "text": [
      "[10, 3, 10]\n",
      "Cartas do Dealer: 23\n",
      "BLACKJACK!\n",
      "Seu score: 8\n",
      "Score do dealer: 5\n",
      "____________________________________________________\n"
     ]
    },
    {
     "name": "stdin",
     "output_type": "stream",
     "text": [
      "Pressione 1 para jogar e 0 para sair! 1\n"
     ]
    },
    {
     "name": "stdout",
     "output_type": "stream",
     "text": [
      "Cartas do dealer: X e 10\n",
      "Suas cartas:  [7, 5]\n",
      "12\n"
     ]
    },
    {
     "name": "stdin",
     "output_type": "stream",
     "text": [
      "Digite 1 para Hit e 2 para Stay! 1\n"
     ]
    },
    {
     "name": "stdout",
     "output_type": "stream",
     "text": [
      "[7, 5, 4]\n",
      "Suas cartas: 16\n"
     ]
    },
    {
     "name": "stdin",
     "output_type": "stream",
     "text": [
      "Digite 1 para Hit e 2 para Stay! 2\n"
     ]
    },
    {
     "name": "stdout",
     "output_type": "stream",
     "text": [
      "[11, 10]\n",
      "Cartas do Dealer: 21\n",
      "BLACKJACK! so que do dealer :(\n",
      "Seu score: 8\n",
      "Score do dealer: 7\n",
      "____________________________________________________\n"
     ]
    },
    {
     "name": "stdin",
     "output_type": "stream",
     "text": [
      "Pressione 1 para jogar e 0 para sair! 1\n"
     ]
    },
    {
     "name": "stdout",
     "output_type": "stream",
     "text": [
      "Cartas do dealer: X e 9\n",
      "Suas cartas:  [1, 9]\n",
      "10\n"
     ]
    },
    {
     "name": "stdin",
     "output_type": "stream",
     "text": [
      "Digite 1 para Hit e 2 para Stay! 1\n"
     ]
    },
    {
     "name": "stdout",
     "output_type": "stream",
     "text": [
      "[1, 9, 2]\n",
      "Suas cartas: 12\n"
     ]
    },
    {
     "name": "stdin",
     "output_type": "stream",
     "text": [
      "Digite 1 para Hit e 2 para Stay! 1\n"
     ]
    },
    {
     "name": "stdout",
     "output_type": "stream",
     "text": [
      "[1, 9, 2, 9]\n",
      "Suas cartas: 21\n"
     ]
    },
    {
     "name": "stdin",
     "output_type": "stream",
     "text": [
      "Digite 1 para Hit e 2 para Stay! 2\n"
     ]
    },
    {
     "name": "stdout",
     "output_type": "stream",
     "text": [
      "[11, 9]\n",
      "Cartas do Dealer: 20\n",
      "Parabens, voce venceu!\n",
      "Seu score: 9\n",
      "Score do dealer: 7\n",
      "____________________________________________________\n"
     ]
    },
    {
     "name": "stdin",
     "output_type": "stream",
     "text": [
      "Pressione 1 para jogar e 0 para sair! 1\n"
     ]
    },
    {
     "name": "stdout",
     "output_type": "stream",
     "text": [
      "Cartas do dealer: X e 10\n",
      "Suas cartas:  [2, 9]\n",
      "11\n"
     ]
    },
    {
     "name": "stdin",
     "output_type": "stream",
     "text": [
      "Digite 1 para Hit e 2 para Stay! 1\n"
     ]
    },
    {
     "name": "stdout",
     "output_type": "stream",
     "text": [
      "[2, 9, 8]\n",
      "Suas cartas: 19\n"
     ]
    },
    {
     "name": "stdin",
     "output_type": "stream",
     "text": [
      "Digite 1 para Hit e 2 para Stay! 2\n"
     ]
    },
    {
     "name": "stdout",
     "output_type": "stream",
     "text": [
      "[8, 10]\n",
      "Cartas do Dealer: 18\n",
      "Parabens, voce venceu!\n",
      "Seu score: 10\n",
      "Score do dealer: 7\n",
      "____________________________________________________\n"
     ]
    },
    {
     "name": "stdin",
     "output_type": "stream",
     "text": [
      "Pressione 1 para jogar e 0 para sair! 0\n"
     ]
    }
   ],
   "source": [
    "import random\n",
    "\n",
    "\n",
    "\n",
    "score_player = 0\n",
    "score_dealer = 0\n",
    "\n",
    "while True:\n",
    "    \n",
    "    print(\"____________________________________________________\")\n",
    "    \n",
    "    jogar = int(input(\"Pressione 1 para jogar e 0 para sair!\"))\n",
    "    if (jogar == 1):\n",
    "            \n",
    "        cartas_dealer = []\n",
    "        cartas_player = []\n",
    "\n",
    "        while len(cartas_dealer) != 2:\n",
    "            a = random.randint(1, 11)\n",
    "            cartas_dealer.append(a)\n",
    "\n",
    "        while len(cartas_player) != 2:\n",
    "            b = random.randint(1, 11)\n",
    "            cartas_player.append(b)\n",
    "\n",
    "        print(\"Cartas do dealer: X e\", cartas_dealer[1])\n",
    "        print(\"Suas cartas: \", cartas_player)\n",
    "        #print(sum(cartas_dealer))\n",
    "        print(sum(cartas_player))\n",
    "\n",
    "\n",
    "        hit = 1\n",
    "\n",
    "\n",
    "        while True:\n",
    "\n",
    "            choice = int(input(\"Digite 1 para Hit e 2 para Stay!\"))\n",
    "            if choice == hit:\n",
    "                cartas_player.append(random.randint(1, 11))\n",
    "                print(cartas_player)\n",
    "                print(\"Suas cartas: \" + str((sum(cartas_player))))\n",
    "\n",
    "                if sum(cartas_player) > 21:\n",
    "                    print(\"Voce estourou! o Dealer vence o jogo!\")\n",
    "                    score_dealer += 1\n",
    "                    print(\"Seu score: \" + str(score_player))\n",
    "                    print(\"Score do dealer: \" + str(score_dealer))\n",
    "                    break\n",
    "\n",
    "            else:\n",
    "                break\n",
    "\n",
    "        while True:\n",
    "            if (sum(cartas_dealer) < 17):\n",
    "                cartas_dealer.append(random.randint(1, 11))\n",
    "            else:\n",
    "                break\n",
    "\n",
    "        print(cartas_dealer)\n",
    "        print(\"Cartas do Dealer: \" + str(sum(cartas_dealer)))\n",
    "\n",
    "        if (sum(cartas_player) > sum(cartas_dealer)):\n",
    "            print(\"Parabens, voce venceu!\")\n",
    "            score_player += 1\n",
    "            print(\"Seu score: \" + str(score_player))\n",
    "            print(\"Score do dealer: \" + str(score_dealer))\n",
    "            \n",
    "        elif (sum(cartas_player) == 21):\n",
    "            score_player += 2\n",
    "            print(\"BLACKJACK!\")\n",
    "            print(\"Seu score: \" + str(score_player))\n",
    "            print(\"Score do dealer: \" + str(score_dealer))\n",
    "            \n",
    "        elif (sum(cartas_dealer) == 21):\n",
    "            score_dealer += 2\n",
    "            print(\"BLACKJACK! so que do dealer :(\")\n",
    "            print(\"Seu score: \" + str(score_player))\n",
    "            print(\"Score do dealer: \" + str(score_dealer))\n",
    "            \n",
    "        elif (sum(cartas_player) == sum(cartas_dealer)):\n",
    "            print(\"Empate, ninguem vence!\")\n",
    "            print(\"Seu score: \" + str(score_player))\n",
    "            print(\"Score do dealer: \" + str(score_dealer))\n",
    "            \n",
    "        elif(sum(cartas_dealer) > 21):\n",
    "            print(\"O dealer estourou! Voce vence o jogo!\")\n",
    "            score_player += 1\n",
    "            print(\"Seu score: \" + str(score_player))\n",
    "            print(\"Score do dealer: \" + str(score_dealer))\n",
    "        else:\n",
    "            print(\"Que pena, o dealer vence!\")\n",
    "            score_dealer += 1\n",
    "            print(\"Seu score: \" + str(score_player))\n",
    "            print(\"Score do dealer: \" + str(score_dealer))\n",
    "    else:\n",
    "        break\n",
    "\n",
    "\n",
    "\n"
   ]
  },
  {
   "cell_type": "code",
   "execution_count": null,
   "metadata": {},
   "outputs": [],
   "source": []
  }
 ],
 "metadata": {
  "kernelspec": {
   "display_name": "Python 3",
   "language": "python",
   "name": "python3"
  },
  "language_info": {
   "codemirror_mode": {
    "name": "ipython",
    "version": 3
   },
   "file_extension": ".py",
   "mimetype": "text/x-python",
   "name": "python",
   "nbconvert_exporter": "python",
   "pygments_lexer": "ipython3",
   "version": "3.8.5"
  }
 },
 "nbformat": 4,
 "nbformat_minor": 4
}
